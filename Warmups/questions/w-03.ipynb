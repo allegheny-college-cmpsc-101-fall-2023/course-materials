{
  "cells": [
    {
      "cell_type": "markdown",
      "metadata": {
        "colab_type": "text",
        "id": "view-in-github"
      },
      "source": [
        "<a href=\"https://colab.research.google.com/github/allegheny-college-cmpsc-101-fall-2023/course-materials/blob/main/Warmups/questions/w_03.ipynb\" target=\"_parent\"><img src=\"https://colab.research.google.com/assets/colab-badge.svg\" alt=\"Open In Colab\"/></a>"
      ]
    },
    {
      "cell_type": "markdown",
      "metadata": {
        "id": "4hD5FVj_dxrP"
      },
      "source": [
        "List Comprehension Examples - reordering control statements inside [ ]"
      ]
    },
    {
      "cell_type": "code",
      "execution_count": null,
      "metadata": {
        "id": "rdmHMGphEKzL"
      },
      "outputs": [],
      "source": [
        "# Explain each line below with a comment(s)\n",
        "# Mention what is unique about each one, mention what is similar about each one.\n",
        "# Make sure you can explain the unexpected_list example\n",
        "# What makes the last line crash?\n",
        "\n",
        "import random\n",
        "\n",
        "print(\"Ex 1:\", [i for i in range(10)])\n",
        "print(\"Ex 2:\", [i*i for i in range(10)])\n",
        "print(\"Ex 3:\", [i*0 for i in range(10)])\n",
        "print(\"Ex 4:\", [i for i in range(10) if i%2 == 0])\n",
        "print(\"Ex 5:\", [i for i in range(10) if i%2 != 0])\n",
        "print(\"Ex 6:\", [i for i in range(10) if i%2 == 1])\n",
        "print(\"Ex 7:\", [i for i in range(10) if i%2 != 1])\n",
        "\n",
        "randomnfloat = random.random()\n",
        "print(\"Ex 8:\", [randomnfloat for i in range(10)])\n",
        "print(\"Ex 9:\", [random.random() for i in range(10)])\n",
        "print(\"Ex 10:\", [random.random() for _ in range(10)])\n",
        "print(\"Ex 11:\", [float('%.2g' % random.random()) for halloween in range(10)])\n",
        "print(\"Ex 12:\", [float('%.3g' % random.random()) for qwerty in range(10)])\n",
        "\n",
        "unexpected_list = []\n",
        "print(\"Ex 13:\", [unexpected_list.append(i) for i in range(10) if i%2 != 1])\n",
        "print(\"unexpected_list: \", unexpected_list)\n",
        "print(\"unexpected_list.append('hello'):\", unexpected_list.append('hello'))\n",
        "\n",
        "print(\"Ex 14:\", [abs(i) for i in [-10, 30, -2.6, 15]])\n",
        "print(\"Ex 15:\", [(lambda x: x*10)(i) for i in range(10)])\n",
        "print(\"Ex 16:\", [x*10 for x in range(10)])\n",
        "print(\"Ex 17:\", [x*10 for _ in range(10)])\n"
      ]
    }
  ],
  "metadata": {
    "colab": {
      "authorship_tag": "ABX9TyO2Z1HoR510FaoRJlC84MYy",
      "include_colab_link": true,
      "provenance": []
    },
    "kernelspec": {
      "display_name": "Python 3",
      "name": "python3"
    },
    "language_info": {
      "name": "python"
    }
  },
  "nbformat": 4,
  "nbformat_minor": 0
}
