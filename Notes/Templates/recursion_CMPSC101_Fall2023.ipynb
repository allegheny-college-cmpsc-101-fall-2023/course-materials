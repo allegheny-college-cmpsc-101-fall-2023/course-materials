{
  "nbformat": 4,
  "nbformat_minor": 0,
  "metadata": {
    "colab": {
      "provenance": [],
      "authorship_tag": "ABX9TyMm33ZiRRUwVkjc/HsU7uLn",
      "include_colab_link": true
    },
    "kernelspec": {
      "name": "python3",
      "display_name": "Python 3"
    },
    "language_info": {
      "name": "python"
    }
  },
  "cells": [
    {
      "cell_type": "markdown",
      "metadata": {
        "id": "view-in-github",
        "colab_type": "text"
      },
      "source": [
        "<a href=\"https://colab.research.google.com/github/allegheny-college-cmpsc-101-fall-2023/course-materials/blob/main/Notes/Templates/recursion_CMPSC101_Fall2023.ipynb\" target=\"_parent\"><img src=\"https://colab.research.google.com/assets/colab-badge.svg\" alt=\"Open In Colab\"/></a>"
      ]
    },
    {
      "cell_type": "code",
      "source": [
        "# recall the basic components of a function:\n",
        "-- function signature\n",
        "  --\n",
        "  --\n",
        "  --\n",
        "  --\n",
        "  --\n",
        "-- function body\n",
        "  --\n",
        "  --\n",
        "  --\n",
        "  --\n",
        "  --\n"
      ],
      "metadata": {
        "id": "mLzV68-hjCAb"
      },
      "execution_count": null,
      "outputs": []
    },
    {
      "cell_type": "code",
      "source": [
        "# calling a function - put these step in order\n",
        "\n",
        "-- print(new_variable_name)\n",
        "  --> this includes inside a function\n",
        "  --> could be a variable or a literal\n",
        "-- often in small examples, we print out the return value using a print statement\n",
        "-- fill in the parameters with actual arguments\n",
        "  --> abs(-10), vs. n = -10, abs(n)\n",
        "-- store the return value in a new variable\n",
        "-- function call can take place at ANY location in the python script BELOW THE FUNCTION DEF\n",
        "  --> this means, use an = sign and a variable name\n",
        "-- write the function name and ()\n",
        "  --> new_variable_name = abs(-10)\n"
      ],
      "metadata": {
        "id": "jyQ7UTgrkPnh"
      },
      "execution_count": null,
      "outputs": []
    },
    {
      "cell_type": "code",
      "source": [
        "# fancy names\n",
        "--\n",
        "--\n",
        "--\n",
        "  --\n",
        "  --\n",
        "    -- YAML language, which stands for \"YAML ain't a markup language\"\n",
        "    -- PHP language meaning \"PHP: Hypertext Preprocessor\"\n",
        "    -- JACK \"JACK audio connection kit\""
      ],
      "metadata": {
        "id": "_r18wbMSlqKn"
      },
      "execution_count": null,
      "outputs": []
    },
    {
      "cell_type": "code",
      "source": [
        "# example of interative\n",
        "def compute_mean_iterative(numbers: list) -> float:\n",
        "  \"\"\"Return the average of a list of numbers using loop.\"\"\"\n",
        "  sum = 0\n",
        "  for n in numbers:\n",
        "    sum += n\n",
        "  num_elems = len(numbers)\n",
        "  mean = sum / num_elems\n",
        "  return float(mean)\n",
        "\n",
        "n = [5,1,7,99,4]\n",
        "mean_n = compute_mean_iterative(n)\n",
        "print(str(mean_n))"
      ],
      "metadata": {
        "id": "BuINKoEYk7xo"
      },
      "execution_count": null,
      "outputs": []
    },
    {
      "cell_type": "code",
      "source": [
        "# # Logic of above function for computing average of a list of numbers\n",
        "\n",
        "# 1. get an element out of the list\n",
        "# 2. add it to some storage variable that is building up\n",
        "# 3. Repeat steps 1-2\n",
        "# 4. divide the complete storage variable by the total number of elements\n",
        "# 5. return the result of the division\n",
        "\n",
        "# # Peudo code\n",
        "\n",
        "# - initialize a storage variable\n",
        "# - start a loop over elements in the list\n",
        "# - inside the loop add the element to the storage variable\n",
        "# - done with loop - now compute the total number of elements in the list\n",
        "# - divide storage variable by total number of elements\n",
        "# - return the result of the division\n",
        "\n"
      ],
      "metadata": {
        "id": "noYVUvBvqEte"
      },
      "execution_count": null,
      "outputs": []
    },
    {
      "cell_type": "code",
      "source": [
        "# # Logic of function for computing factorial of a number\n",
        "\n",
        "# 1. take the number\n",
        "# 2. multiply by one less than the number\n",
        "# 3. store the interim result somewhere\n",
        "# 4. repeat the multiplication by one less until we multiply by 1\n",
        "# 5. return the final result\n",
        "\n",
        "# # pseudo code\n",
        "\n",
        "# 1. initialize the interim result\n",
        "# 2. initialize a counter to keep track of how many multiplications we need to do\n",
        "# 3. set up loop to continue until that counter counts down to 1\n",
        "# 4. inside the loop, multiply the interim result by one less than number\n",
        "# 5. store the computation\n",
        "# 6. decrease the counter\n",
        "# 7. return the final result\n",
        "\n"
      ],
      "metadata": {
        "id": "bKQoAXiPrxM5"
      },
      "execution_count": null,
      "outputs": []
    },
    {
      "cell_type": "code",
      "source": [
        "# Implementation of above interative function\n"
      ],
      "metadata": {
        "id": "nap7oQbSn7hO"
      },
      "execution_count": null,
      "outputs": []
    },
    {
      "cell_type": "code",
      "source": [
        "# but check this out: 5! is the same as 5 * 4!\n"
      ],
      "metadata": {
        "id": "swHLsYKfuiZv"
      },
      "execution_count": null,
      "outputs": []
    },
    {
      "cell_type": "code",
      "source": [
        "def compute_factorial_recursive(number: int) -> int:\n"
      ],
      "metadata": {
        "id": "FrqgI4K6va7h"
      },
      "execution_count": null,
      "outputs": []
    },
    {
      "cell_type": "code",
      "source": [
        "# Where is the base case\n",
        "# Where is the recursive call?\n",
        "# Where is the progression of the input?\n"
      ],
      "metadata": {
        "id": "uRfUZzAYw_vU"
      },
      "execution_count": null,
      "outputs": []
    },
    {
      "cell_type": "markdown",
      "source": [
        "Fibonacci number ${F_n}$ is defined:\n",
        "\n",
        "${F_{n}=F_{n-1}+F_{n-2}}$\n",
        "\n",
        "where\n",
        "\n",
        "${F_0 = 0}$ and ${F_1 = 1}$\n",
        "\n",
        "learn more: https://en.wikipedia.org/wiki/Fibonacci_sequence"
      ],
      "metadata": {
        "id": "wHPerTVO-kLK"
      }
    },
    {
      "cell_type": "code",
      "source": [
        "# fibonacci sequence where new = prev + current\n",
        "# inial inputs 0, 1\n",
        "# 0 + 1 = 1 (new = 1, current = 1, previous = 0)\n",
        "# 1 + 1 = 2 (new = 2, current = 1, previous = 1)\n",
        "# 1 + 2 = 3 (new = 3, current = 2, previous = 1)\n",
        "# 2 + 3 = 5 (new = 5, current = 3, previous = 2)\n",
        "# 3 + 5 = 8 (new = 8, current = 5, previous = 3)\n",
        "# 5 + 8 = 13 (new = 13, current = 8, previous = 5)\n"
      ],
      "metadata": {
        "id": "axXE033Dxauc"
      },
      "execution_count": null,
      "outputs": []
    },
    {
      "cell_type": "code",
      "source": [
        "def fibonacci_tuple(n: int) -> tuple[int]:\n",
        "    fib_seq = () # empty tuple\n",
        "    previous = 0 # intialization\n",
        "    current = 1 # intialization\n",
        "    for i in range(n):\n",
        "        fib_seq += (previous,)\n",
        "        new_val = current + previous\n",
        "        previous = current\n",
        "        current = new_val\n",
        "    return fib_seq\n",
        "\n",
        "print(fibonacci_tuple(10))"
      ],
      "metadata": {
        "id": "T6Tyd_JGx-nI"
      },
      "execution_count": null,
      "outputs": []
    },
    {
      "cell_type": "code",
      "source": [
        "# more pythonic resetting of current and previous\n",
        "\n",
        "def fibonacci_tuple(n: int) -> tuple[int]:\n",
        "    fib_seq = ()\n",
        "    previous = 0\n",
        "    current = 1\n",
        "    for i in range(n):\n",
        "        fib_seq += (previous,)\n",
        "        previous, current = current, previous + current\n",
        "    return fib_seq\n",
        "\n",
        "print(fibonacci_tuple(10))"
      ],
      "metadata": {
        "id": "wiRP423EzO84"
      },
      "execution_count": null,
      "outputs": []
    },
    {
      "cell_type": "code",
      "source": [
        "# What is happening here?\n",
        "\n",
        "def fibonacci_list(n: int) -> list[int]:\n",
        "    fib_seq = []\n",
        "    previous = 0\n",
        "    current = 1\n",
        "    for i in range(n):\n",
        "        fib_seq.append(previous)\n",
        "        previous, current = current, previous + current\n",
        "    return fib_seq\n",
        "\n",
        "print(fibonacci_list(10))"
      ],
      "metadata": {
        "id": "Y5P1FV2f0f11"
      },
      "execution_count": null,
      "outputs": []
    },
    {
      "cell_type": "code",
      "source": [
        "# What is happening here? We will come back to this later\n",
        "\n",
        "from typing import Iterator\n",
        "\n",
        "def fibonacci_generator(n: int) -> Iterator[int]:\n",
        "    previous = 0\n",
        "    current = 1\n",
        "    for i in range(n):\n",
        "        yield previous\n",
        "        previous, current = current, previous + current\n",
        "\n",
        "print([fibonacci_value for fibonacci_value in fibonacci_generator(10)])\n",
        "print(fibonacci_generator(10))"
      ],
      "metadata": {
        "id": "P61Ysexz01JG"
      },
      "execution_count": null,
      "outputs": []
    },
    {
      "cell_type": "code",
      "source": [
        "# lets formulate it recursively\n",
        "\n",
        "# the fib sequence of 10 elements is the same as the fib seq for 9 elements + one extra\n",
        "# the fib sequence of 9 elements is the same as the fib seq for 8 elements + one extra\n",
        "# the fib sequence of 8 elements is the same as the fib seq for 7 elements + one extra\n",
        "# the fib sequence of 7 elements is the same as the fib seq for 6 elements + one extra\n",
        "# the fib sequence of 6 elements is the same as the fib seq for 5 elements + one extra\n",
        "# ...\n",
        "# the fib sequence of 3 elements is the same as the fib seq for 2 elements + one extra\n",
        "# the fib sequence of 2 elements is 1\n",
        "# the fib sequence of 1 element is 0\n",
        "\n",
        "# base case:  - prev is 0 and current is 1, the sum of prev and current is 1\n",
        "# recursive call\n",
        "  # we need to keep track of three things at any given time: new, current, previous\n",
        "\n",
        "\n",
        "def fibonacci_recursive(n: int) -> int:\n",
        "  if n == 1:\n",
        "    return 1\n",
        "  if n == 0:\n",
        "    return 0\n",
        "  return fibonacci_recursive(n-1) + fibonacci_recursive(n-2)\n",
        "\n",
        "print([fibonacci_recursive(i) for i in range(10)])"
      ],
      "metadata": {
        "id": "FD69iDAa13w2"
      },
      "execution_count": null,
      "outputs": []
    },
    {
      "cell_type": "code",
      "source": [
        "# How many times is the fibonacci_recursive called?\n",
        "# Add in a global counter to track how many times fibonacci_recursive is called.\n",
        "# What goes wrong here?\n",
        "counter = 0\n",
        "\n",
        "def fibonacci_recursive(n: int) -> int:\n",
        "  counter += 1\n",
        "  if n <= 1:\n",
        "    return n\n",
        "  return fibonacci_recursive(n-1) + fibonacci_recursive(n-2)\n",
        "\n",
        "print([fibonacci_recursive(i) for i in range(10)])\n",
        "print(\"counter:\", counter)"
      ],
      "metadata": {
        "id": "GtkhR-uodmZZ"
      },
      "execution_count": null,
      "outputs": []
    },
    {
      "cell_type": "code",
      "source": [
        "# How many times is the fibonacci_recursive called?\n",
        "# Add in a global counter to track how many times fibonacci_recursive is called.\n",
        "counter = 0\n",
        "\n",
        "def fibonacci_recursive(n: int) -> int:\n",
        "  global counter\n",
        "  counter += 1\n",
        "  if n <= 1:\n",
        "    return n\n",
        "  return fibonacci_recursive(n-1) + fibonacci_recursive(n-2)\n",
        "\n",
        "print([fibonacci_recursive(i) for i in range(10)])\n",
        "print(\"global counter:\", counter)\n"
      ],
      "metadata": {
        "id": "13zrvhIM6u3k"
      },
      "execution_count": null,
      "outputs": []
    },
    {
      "cell_type": "code",
      "source": [
        "# What is your prediction about the speed of these various functions?\n",
        "# Which one is slowest and why?"
      ],
      "metadata": {
        "id": "KhnEHIU9aPZq"
      },
      "execution_count": null,
      "outputs": []
    },
    {
      "cell_type": "code",
      "source": [
        "# What happens when you try to run this?\n",
        "print(\"List method:\", fibonacci_list(120)[119])\n",
        "print(\"recursive method:\", fibonacci_recursive(120))p"
      ],
      "metadata": {
        "id": "m2lwyR1Sa6Bi"
      },
      "execution_count": null,
      "outputs": []
    },
    {
      "cell_type": "markdown",
      "source": [
        "Extension\n",
        "\n",
        "Given an input string of numbers, find all combinations of numbers that can be formed using digits in the same order.\n",
        "Examples:\n",
        "\n",
        "```\n",
        "Input : 123\n",
        "Output :1 2 3\n",
        "        1 23\n",
        "        12 3\n",
        "        123\n",
        "\n",
        "Input : 1234\n",
        "Output : 1 2 3 4\n",
        "        1 2 34\n",
        "        1 23 4\n",
        "        1 234\n",
        "        12 3 4\n",
        "        12 34\n",
        "        123 4\n",
        "        1234\n",
        "```\n",
        "\n",
        "The problem can be solved using recursion. We keep track of the current index in the given input string and the length of the output string so far. In each call to the function, if there are no digits remaining in the input string print the current output string and return. Otherwise, copy the current digit to output. From here make two calls, one considering the next digit as part of the next number(including a space in output string) and one considering the next digit as part of the current number( no space included). If there are no digits remaining after the current digit the second call to the function is omitted because a trailing space doesn’t count as a new combination."
      ],
      "metadata": {
        "id": "_XVqWWzJAZcd"
      }
    }
  ]
}