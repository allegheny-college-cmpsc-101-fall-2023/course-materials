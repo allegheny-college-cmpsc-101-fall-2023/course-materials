{
  "nbformat": 4,
  "nbformat_minor": 0,
  "metadata": {
    "colab": {
      "provenance": [],
      "authorship_tag": "ABX9TyOBR824XDN8K4apkhweKbUo",
      "include_colab_link": true
    },
    "kernelspec": {
      "name": "python3",
      "display_name": "Python 3"
    },
    "language_info": {
      "name": "python"
    }
  },
  "cells": [
    {
      "cell_type": "markdown",
      "metadata": {
        "id": "view-in-github",
        "colab_type": "text"
      },
      "source": [
        "<a href=\"https://colab.research.google.com/github/allegheny-college-cmpsc-101-fall-2023/course-materials/blob/main/Notes/Filled/List_of_lists.ipynb\" target=\"_parent\"><img src=\"https://colab.research.google.com/assets/colab-badge.svg\" alt=\"Open In Colab\"/></a>"
      ]
    },
    {
      "cell_type": "code",
      "execution_count": 1,
      "metadata": {
        "colab": {
          "base_uri": "https://localhost:8080/"
        },
        "id": "pgE_tuOeo74n",
        "outputId": "4c4768f8-cef5-4a14-8e2f-05b86f40f4ad"
      },
      "outputs": [
        {
          "output_type": "stream",
          "name": "stdout",
          "text": [
            "id(N1) 138486048145024\n",
            "id(N2) 138486048145024\n",
            "id(N1[0]) 138486048140544\n",
            "id(N2[0]) 138486048140544\n",
            "id(a) 138486048140544\n"
          ]
        }
      ],
      "source": [
        "a = ['apple'] # a is the name of the list object containing \"apple\"\n",
        "b = ['bear'] # b is the name of a different list object containing \"bear\"\n",
        "\n",
        "N1 = [a,b] # N1 is name of the list that points to the objects that are already in memory\n",
        "N2 = N1 # N2 points to the SAME list in memory!\n",
        "\n",
        "print(\"id(N1)\", id(N1))\n",
        "print(\"id(N2)\", id(N2))\n",
        "\n",
        "print(\"id(N1[0])\", id(N1[0]))\n",
        "print(\"id(N2[0])\", id(N2[0]))\n",
        "print(\"id(a)\", id(a))\n"
      ]
    },
    {
      "cell_type": "code",
      "source": [
        "N2[0] = ['newstring'] # 'newstring' is a new list object in memory...doesn't have\n",
        "# its own name but the 0th slot in the N2 list now refers to this object!\n",
        "\n",
        "\n",
        "print(\"id(N2[0])\", id(N2[0])) # since it is a new object, it has a new id as well\n",
        "\n",
        "print(N2[0])\n",
        "print(N1[0]) # notice that because N1 and N2 are names refering to the SAME list,\n",
        "# the 0th item in N1 is also changed!\n",
        "\n",
        "print(a) # the name a and its connection to list with apple object has not been disturbed"
      ],
      "metadata": {
        "colab": {
          "base_uri": "https://localhost:8080/"
        },
        "id": "oZl77QatpQPG",
        "outputId": "abb8a99f-83e3-4f04-affb-f4ba9248fd65"
      },
      "execution_count": 2,
      "outputs": [
        {
          "output_type": "stream",
          "name": "stdout",
          "text": [
            "id(N2[0]) 138486588249472\n",
            "['newstring']\n",
            "['newstring']\n",
            "['apple']\n"
          ]
        }
      ]
    },
    {
      "cell_type": "code",
      "source": [
        "N3 = N2[:] # N3 makes a _new_ list object in memomry, but it has old objects inside\n",
        "N3[0] = ['tiger'] # list object with 'tiger' is created and N3[0] refers to it!\n",
        "# this has no impact on N2 since N3 is its own list\n",
        "\n",
        "print(\"id(N2[0])\", id(N2[0]))\n",
        "print(\"id(N3[0])\", id(N3[0]))\n",
        "print(N2[0])\n",
        "print(N3[0])\n"
      ],
      "metadata": {
        "colab": {
          "base_uri": "https://localhost:8080/"
        },
        "id": "rEGVzsDfq_-j",
        "outputId": "1fc1350f-62da-437d-e8d0-52ab1f596aa2"
      },
      "execution_count": 3,
      "outputs": [
        {
          "output_type": "stream",
          "name": "stdout",
          "text": [
            "id(N2[0]) 138486588249472\n",
            "id(N3[0]) 138486048213312\n",
            "['newstring']\n",
            "['tiger']\n"
          ]
        }
      ]
    },
    {
      "cell_type": "code",
      "source": [
        "# Question: Can you change the object that N3[0] refers to without creating a new one???\n",
        "# Why or why not?\n",
        "\n",
        "\n",
        "# YES!!!!! YES !!!! YES!!!! N3[0] is a list! IT CAN BE CHANGED\n",
        "N3[0].append('lion')\n",
        "print(N3[0])"
      ],
      "metadata": {
        "id": "JoA0xMEVxJ85",
        "colab": {
          "base_uri": "https://localhost:8080/"
        },
        "outputId": "9d975c09-f9ed-4404-f0a3-e24dc9ad7961"
      },
      "execution_count": 4,
      "outputs": [
        {
          "output_type": "stream",
          "name": "stdout",
          "text": [
            "['tiger', 'lion']\n"
          ]
        }
      ]
    },
    {
      "cell_type": "code",
      "source": [
        "# Question: Can you change the object that N2[0] refers to without creating a new one???\n",
        "# Why or why not?\n",
        "\n",
        "\n",
        "# YES!!!!! YES !!!! YES!!!! N2[0] is a list! IT CAN BE CHANGED\n",
        "N2[0].append('appendingN2[0]')\n",
        "print('N2[0]', N2[0])\n",
        "\n",
        "# recall that N2 was an alias for N1, thus the line above just changed N1 as well\n",
        "print('N1[0]', N1[0])"
      ],
      "metadata": {
        "colab": {
          "base_uri": "https://localhost:8080/"
        },
        "id": "bh1Mn7dEzeja",
        "outputId": "77945469-b7f8-44ee-e4f9-fad0d8de26dd"
      },
      "execution_count": 6,
      "outputs": [
        {
          "output_type": "stream",
          "name": "stdout",
          "text": [
            "N2[0] ['newstring', 'appendingN2[0]', 'appendingN2[0]']\n",
            "N1[0] ['newstring', 'appendingN2[0]', 'appendingN2[0]']\n"
          ]
        }
      ]
    },
    {
      "cell_type": "code",
      "source": [
        "# What other objects inside a list could be changed?\n",
        "# What other objects inside a list would be immutable?\n",
        "\n",
        "# If an object is immutable can you reuse it's name?"
      ],
      "metadata": {
        "id": "E6zGicfK1l9J"
      },
      "execution_count": null,
      "outputs": []
    }
  ]
}