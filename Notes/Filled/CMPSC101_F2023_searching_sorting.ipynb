{
  "nbformat": 4,
  "nbformat_minor": 0,
  "metadata": {
    "colab": {
      "provenance": [],
      "authorship_tag": "ABX9TyP1zm4vtN3H0BFllK0JrUaB",
      "include_colab_link": true
    },
    "kernelspec": {
      "name": "python3",
      "display_name": "Python 3"
    },
    "language_info": {
      "name": "python"
    }
  },
  "cells": [
    {
      "cell_type": "markdown",
      "metadata": {
        "id": "view-in-github",
        "colab_type": "text"
      },
      "source": [
        "<a href=\"https://colab.research.google.com/github/allegheny-college-cmpsc-101-fall-2023/course-materials/blob/main/Notes/Filled/CMPSC101_F2023_searching_sorting.ipynb\" target=\"_parent\"><img src=\"https://colab.research.google.com/assets/colab-badge.svg\" alt=\"Open In Colab\"/></a>"
      ]
    },
    {
      "cell_type": "markdown",
      "source": [
        "searching and sorting\n",
        "https://ocw.mit.edu/courses/6-0001-introduction-to-computer-science-and-programming-in-python-fall-2016/resources/lecture-12-searching-and-sorting/"
      ],
      "metadata": {
        "id": "zigghlLz0qCD"
      }
    },
    {
      "cell_type": "markdown",
      "source": [
        "<img src=\"https://s3.amazonaws.com/lowres.cartoonstock.com/animals-tortoise-turtles-hare_and_tortoise-fables-racing-mbcn519_low.jpg\" />\n",
        "[lowres.cartoonstock.com]"
      ],
      "metadata": {
        "id": "EWX14UBpY_ND"
      }
    },
    {
      "cell_type": "markdown",
      "source": [
        "## Examples"
      ],
      "metadata": {
        "id": "9gfgcXts9hEz"
      }
    },
    {
      "cell_type": "markdown",
      "source": [
        "-  We've been talking about how to determine the complexity of an algorithm\n",
        "  - specifically, we discussed orders of growth and Big-O notation which describe the relationship between the size of an input and number of steps needed to get the output for a given algorithm.\n",
        "  - We were not interested in the exact number of steps, but rather how the number of steps scales with the size of the input.\n",
        "  - So for example, lets say there is an algorithms, and when it takes an input of size 10, it has to look at every element in the input and do a fixed number of steps. Now consider the same algorithm where the input is size 20. for every element it must do a fixed number of steps...\n",
        "    -  Consider the code below:\n"
      ],
      "metadata": {
        "id": "eXhnsLdtaaO2"
      }
    },
    {
      "cell_type": "code",
      "source": [
        "# Searching for element in a list\n",
        "\n",
        "def find(input_list: list, e) -> bool:\n",
        "  for i in range(len(input_list)):\n",
        "    if input_list[i] == e:\n",
        "      return True\n",
        "  return False"
      ],
      "metadata": {
        "id": "nDhSJFwDBEhd"
      },
      "execution_count": null,
      "outputs": []
    },
    {
      "cell_type": "code",
      "source": [
        "# Searching for element in a list\n",
        "\n",
        "def find(input_list: list, e) -> bool:\n",
        "  for i in range(len(input_list)):\n",
        "    current_element = input_list[i]\n",
        "    if current_element == e:\n",
        "      return True\n",
        "  return False\n",
        "\n",
        "# here you can see that I've changed the algorithm very slightly, can you spot the difference?\n",
        "# what is the difference here in terms of the number of steps for each item in the list?\n",
        "# Well, essentially there is just one extra step for every i\n",
        "# the extra step is a variable assignment.\n",
        "# for this step alone, does the work it takes to do this assignment change depending on the input?  NO\n",
        "# so we can say that for this particular implementation of this algorithm, there are still a fixed number of steps that take place\n",
        "# per element in the input_list. If the input_list size is doubled, the number of steps per element stays fixed, so\n",
        "# this algorithm has a linear complexity, and with big O notation, it would be written as O(n) where n is the number of elements in the input."
      ],
      "metadata": {
        "id": "ZoAPQR-sCtBm"
      },
      "execution_count": null,
      "outputs": []
    },
    {
      "cell_type": "code",
      "source": [
        "# Searching for element in a list\n",
        "\n",
        "def find(input_list: list, e) -> bool:\n",
        "  list_len = len(input_list)\n",
        "  for i in range(list_len):\n",
        "    current_element = input_list[i]\n",
        "    if current_element == e:\n",
        "      return True\n",
        "  return False"
      ],
      "metadata": {
        "id": "K9TZJ5qvDeyg"
      },
      "execution_count": null,
      "outputs": []
    },
    {
      "cell_type": "markdown",
      "source": [
        "What algorithms are fast and slow?\n",
        "  - what operations can be costly\n",
        "  - what code constructs can be costly\n",
        "  - what data types can help or hurt?"
      ],
      "metadata": {
        "id": "hkT10ZZSCgIW"
      }
    },
    {
      "cell_type": "markdown",
      "source": [
        "## How is a list stored in memory?"
      ],
      "metadata": {
        "id": "bEHG-LEDdtSA"
      }
    },
    {
      "cell_type": "markdown",
      "source": [
        "## Searching"
      ],
      "metadata": {
        "id": "2A9JOyz19x2B"
      }
    },
    {
      "cell_type": "code",
      "source": [
        "# Searching for element in a list\n",
        "\n",
        "def find(input_list: list, e) -> bool:\n",
        "  for element in input_list:\n",
        "    if element == e:\n",
        "      return True\n",
        "  return False"
      ],
      "metadata": {
        "id": "SN9xuE-79jKz"
      },
      "execution_count": null,
      "outputs": []
    },
    {
      "cell_type": "markdown",
      "source": [
        "## Bisection Search"
      ],
      "metadata": {
        "id": "loekD-gDqctW"
      }
    },
    {
      "cell_type": "code",
      "source": [
        "# Recursive Search Example\n",
        "global count\n",
        "\n",
        "def bisect_search(mylist, e):\n",
        "  \"\"\"Determine if e is in L.\"\"\"\n",
        "  global count\n",
        "  count += 1\n",
        "  if mylist == []:\n",
        "    return False\n",
        "  elif len(mylist) == 1:\n",
        "    return mylist[0] == e\n",
        "  else:\n",
        "    midpoint = len(mylist)//2\n",
        "    if mylist[midpoint] > e:\n",
        "      return bisect_search(mylist[:midpoint], e)\n",
        "    else:\n",
        "      return bisect_search(mylist[midpoint:], e)\n",
        "\n",
        "count = 0\n",
        "list_size = 10000000\n",
        "elem = list_size-1\n",
        "print(f\"bisect_search([i for i in range({list_size})], {elem})\", bisect_search([i for i in range(list_size)], elem))\n",
        "print(\"count =\", count)"
      ],
      "metadata": {
        "colab": {
          "base_uri": "https://localhost:8080/"
        },
        "id": "UGZR4HFAqbtp",
        "outputId": "758d0b1b-90f5-4bac-d5d8-c257a0a706af"
      },
      "execution_count": null,
      "outputs": [
        {
          "output_type": "stream",
          "name": "stdout",
          "text": [
            "bisect_search([i for i in range(10000000)], 9999999) True\n",
            "count = 25\n"
          ]
        }
      ]
    },
    {
      "cell_type": "markdown",
      "source": [
        "- LOOK OUT FOR HIDDEN COMPLEXITY!\n",
        "- lists!"
      ],
      "metadata": {
        "id": "YpfW1lK1rpe-"
      }
    },
    {
      "cell_type": "code",
      "source": [
        "# testing list copying, is a slice a copy?\n",
        "L = [i**3 for i in range(20)]\n",
        "L_alias = L\n",
        "L_slice = L[0:]\n",
        "L_slice.append('slice')\n",
        "L_alias.append('alias')\n",
        "print(L)\n",
        "print(L_slice)\n",
        "print(L_alias)"
      ],
      "metadata": {
        "colab": {
          "base_uri": "https://localhost:8080/"
        },
        "id": "rNI2G_XLsRga",
        "outputId": "2db640fe-3c37-44a0-9eb4-0fd80c11194b"
      },
      "execution_count": 1,
      "outputs": [
        {
          "output_type": "stream",
          "name": "stdout",
          "text": [
            "[0, 1, 8, 27, 64, 125, 216, 343, 512, 729, 1000, 1331, 1728, 2197, 2744, 3375, 4096, 4913, 5832, 6859, 'alias']\n",
            "[0, 1, 8, 27, 64, 125, 216, 343, 512, 729, 1000, 1331, 1728, 2197, 2744, 3375, 4096, 4913, 5832, 6859, 'slice']\n",
            "[0, 1, 8, 27, 64, 125, 216, 343, 512, 729, 1000, 1331, 1728, 2197, 2744, 3375, 4096, 4913, 5832, 6859, 'alias']\n"
          ]
        }
      ]
    },
    {
      "cell_type": "code",
      "source": [
        "def bisect_search(mylist, e):\n",
        "\n",
        "  def bisect_search_helper(mylist, e, start, end):\n",
        "    \"\"\"Determine if e is in L.\"\"\"\n",
        "    print(f\"new call start={start}, end={end}\")\n",
        "    if start == end:\n",
        "      return mylist[start] == e\n",
        "    else:\n",
        "      midpoint = (end+start)//2\n",
        "      if mylist[midpoint] == e:\n",
        "        return True\n",
        "      if mylist[midpoint] > e:\n",
        "        end = midpoint - 1\n",
        "        if end >= start: # Josh - is it bad form to check this here, should it be pulled out above, but requiring one extra function call?\n",
        "          return bisect_search_helper(mylist, e, start, end)\n",
        "      else:\n",
        "        start = midpoint + 1\n",
        "        if start <= end:\n",
        "          return bisect_search_helper(mylist, e, start, end)\n",
        "      return False\n",
        "\n",
        "\n",
        "  if len(mylist) == 0:\n",
        "    return False\n",
        "  return bisect_search_helper(mylist, e, start = 0, end = len(mylist) -1)\n",
        "\n",
        "bisect_search([1,2,3,4,5,6,7,8,9,10], )\n"
      ],
      "metadata": {
        "colab": {
          "base_uri": "https://localhost:8080/"
        },
        "id": "tCO_FBO2RZ0r",
        "outputId": "2725264c-11f9-4e5b-fb53-70cc4ed9de83"
      },
      "execution_count": null,
      "outputs": [
        {
          "output_type": "stream",
          "name": "stdout",
          "text": [
            "new call start=0, end=9\n",
            "new call start=5, end=9\n",
            "new call start=8, end=9\n",
            "new call start=9, end=9\n"
          ]
        },
        {
          "output_type": "execute_result",
          "data": {
            "text/plain": [
              "False"
            ]
          },
          "metadata": {},
          "execution_count": 30
        }
      ]
    },
    {
      "cell_type": "markdown",
      "source": [
        "https://www.khanacademy.org/computing/computer-science/algorithms/binary-search/a/implementing-binary-search-of-an-array\n",
        "<img src=\"https://cdn.kastatic.org/ka-perseus-images/bbb5cf3c0a28aee1a1961ee8b23800ed531953af.png\" />\n",
        "</br>\n",
        "<img src=\"https://cdn.kastatic.org/ka-perseus-images/b63e2970131ee28a7eb45299151731effe5c0c3e.png\" />\n",
        "</br>\n",
        "<img src=\"https://cdn.kastatic.org/ka-perseus-images/4c9fbfe50c5a4c6df7a4653c16c20e11b3dd9b7a.png\" />"
      ],
      "metadata": {
        "id": "h-zB39CZbL65"
      }
    },
    {
      "cell_type": "markdown",
      "source": [
        "- When an algorithm reduces the problem by one each time...it is linear\n",
        "- If there is a single recursive call on a input with unit decrease ... linear\n",
        "- when an algorithm reduces a problem in half, or in thirds, or in fourths, or in 10ths each time, that is logarithic complexity\n",
        "- When there are nested loops, often that is an indication of a polynomial complexity $O(n^2)$\n",
        "- Exponential complexity - typically occurs when there are multiple recursive calls inside a function that _all_ get excecuted, and the input size does not shrink\n",
        "- Exponential can also happen if there is an iterative element that gets twice as large for every unit increase in input."
      ],
      "metadata": {
        "id": "J1yx7UZygoCB"
      }
    },
    {
      "cell_type": "code",
      "source": [
        "# Exponetial Example\n",
        "\n",
        "# generate the power \"set\"\n",
        "\n",
        "# the power set of 1 to n is just n added to every set that is in the power set of 1 to n-1. The power set of 0 is []"
      ],
      "metadata": {
        "id": "ALjEbxBkZs-I"
      },
      "execution_count": null,
      "outputs": []
    },
    {
      "cell_type": "markdown",
      "source": [
        "- how do i sort a list as efficiently as possible?\n",
        "- Searching sorted lists is very efficient O(log(n)), but sorting them is the hard part...\n",
        "  - only if I can store, or reuse, or maintain a list in sorted order is it worthwhile to pre-sort something before searching\n",
        "  - recall in the worst case, search through unsorted list would take O(n)\n",
        "\n",
        "So lets go through sorting algorithms"
      ],
      "metadata": {
        "id": "RX9M2YcF2n4H"
      }
    },
    {
      "cell_type": "markdown",
      "source": [
        "# Sorting"
      ],
      "metadata": {
        "id": "ftvWY-7CB4wh"
      }
    },
    {
      "cell_type": "markdown",
      "source": [
        "## Bubble Sort"
      ],
      "metadata": {
        "id": "I_TU4fGb4hAA"
      }
    },
    {
      "cell_type": "markdown",
      "source": [
        "<img src=\"https://upload.wikimedia.org/wikipedia/commons/3/37/Bubble_sort_animation.gif\" />"
      ],
      "metadata": {
        "id": "rRAs6ZLB8_JX"
      }
    },
    {
      "cell_type": "markdown",
      "source": [
        "<img src=\"https://upload.wikimedia.org/wikipedia/commons/c/c8/Bubble-sort-example-300px.gif?20131109191607\" />"
      ],
      "metadata": {
        "id": "SW7na4u94NuO"
      }
    },
    {
      "cell_type": "markdown",
      "source": [
        "- element i and i+1\n",
        "- compare size\n",
        "- swap if necessary\n",
        "- what order? n^2\n",
        "- worst case  is list is backwards\n",
        "- keep going through the list until no swaps occur in the entire list\n",
        "\n",
        "- first pass, the largest element ends up at the end of the list\n",
        "- next pass, the next largest element ends up at the next to last slot"
      ],
      "metadata": {
        "id": "e7dq-JqqR-3m"
      }
    },
    {
      "cell_type": "markdown",
      "source": [
        "## Selection Sort"
      ],
      "metadata": {
        "id": "TBC615caUsKf"
      }
    },
    {
      "cell_type": "markdown",
      "source": [
        "### 1. [animation](https://upload.wikimedia.org/wikipedia/commons/f/f6/Selection_Sort_Animation.gif)"
      ],
      "metadata": {
        "id": "8NhAJJTkXggv"
      }
    },
    {
      "cell_type": "markdown",
      "source": [
        "<img src=\"https://upload.wikimedia.org/wikipedia/commons/f/f6/Selection_Sort_Animation.gif\"/>"
      ],
      "metadata": {
        "id": "bpaeH3fNXPbp"
      }
    },
    {
      "cell_type": "markdown",
      "source": [
        "### 2. animation 2"
      ],
      "metadata": {
        "id": "lCK6JMSwXlFQ"
      }
    },
    {
      "cell_type": "markdown",
      "source": [
        "<img src=\"https://upload.wikimedia.org/wikipedia/commons/9/94/Selection-Sort-Animation.gif\" />"
      ],
      "metadata": {
        "id": "RNXsbS68Uz0G"
      }
    },
    {
      "cell_type": "markdown",
      "source": [
        "- unsorted list\n",
        "- find smallest element by linear pass through entire list\n",
        "- move that to the beginning\n",
        "- repeat by searching for the next smallest element (linear), then move that to the beginning + 1\n",
        "- The prefix is always assumed to be sorted, and the suffix is assumed to have only elements that are larger than inside the prefix\n",
        "- each time through the list, the prefix grows, and the suffix shrinks"
      ],
      "metadata": {
        "id": "UDSpUmJNVv0z"
      }
    },
    {
      "cell_type": "markdown",
      "source": [
        "## Merge Sort"
      ],
      "metadata": {
        "id": "-rGAyBsg-v_C"
      }
    },
    {
      "cell_type": "markdown",
      "source": [
        "- breaks the sorting problem down into smaller versions of the same problem\n",
        "  - e.g. sort a list of 0 or 1 element, trivial!\n",
        "  - so, split the big list in half until we are only looking at something size 0 or 1\n",
        "  - then merge the results in the lowest layer\n",
        "  - repeat"
      ],
      "metadata": {
        "id": "WLZibnNQ-y6n"
      }
    },
    {
      "cell_type": "markdown",
      "source": [
        "### [Animation 1](https://upload.wikimedia.org/wikipedia/commons/c/c5/Merge_sort_animation2.gif)"
      ],
      "metadata": {
        "id": "KRQKSpdFB08w"
      }
    },
    {
      "cell_type": "markdown",
      "source": [
        "<img src=\"https://upload.wikimedia.org/wikipedia/commons/c/c5/Merge_sort_animation2.gif\" />"
      ],
      "metadata": {
        "id": "1MCz1Q7KBwrb"
      }
    },
    {
      "cell_type": "markdown",
      "source": [
        "### [Animation 2](https://miro.medium.com/v2/0*K7cD17vfL7FdTTLK.gif)"
      ],
      "metadata": {
        "id": "E38qDmGPB_MN"
      }
    },
    {
      "cell_type": "markdown",
      "source": [
        "<img src=\"https://miro.medium.com/v2/0*K7cD17vfL7FdTTLK.gif\" />"
      ],
      "metadata": {
        "id": "hpQR71sUAPIw"
      }
    },
    {
      "cell_type": "markdown",
      "source": [
        "- In the merge process, we onle have to compare each element once, and I can make a decision that is correct without looping back over the list. I can also stop comparing if one list runs out of elements!\n",
        "- The main point is that the merge process only has to go through the right and left hand lists once! That is 2* one line, which is linear with respect to the lenght of the list\n",
        "- this is the best worst case sorting algorithm"
      ],
      "metadata": {
        "id": "XvHlXjimCgAJ"
      }
    },
    {
      "cell_type": "markdown",
      "source": [
        "- [8,4,1,6,5,9,2,0]\n",
        "- [8,4,1,6] [5,9,2,0]\n",
        "- [8,4] [1,6]\n",
        "- [8] [4] [1] [6]\n",
        "- MERGE\n",
        "- [4,8] [1,6]\n",
        "- [1, 4, 6, 8]\n",
        "\n",
        "- log(n) iteration with O(n) steps at each level => O(n log(n))\n"
      ],
      "metadata": {
        "id": "fPNU2nDcGvwv"
      }
    },
    {
      "cell_type": "markdown",
      "source": [
        "## Quicksort"
      ],
      "metadata": {
        "id": "g3IOeI7H9Ory"
      }
    },
    {
      "cell_type": "markdown",
      "source": [
        "### Drawing"
      ],
      "metadata": {
        "id": "FYcwLZBt9QOj"
      }
    },
    {
      "cell_type": "markdown",
      "source": [
        "<img src=\"https://assets-global.website-files.com/5d0dc87aac109e1ffdbe379c/6098e0ecedd39b2d866b18f7_UNUFjEGBUOFu7hddvEXMK5DEkeYLLMhWXdqzY5DBSl11pmM1-x-40H4AOiBhNUOoz2LWVKEJ1TrswXAlFp__MPQI83k8HhHwMwncGgzexxE89FcoqAgcorc95wQZZ0l3iMbmsSdh.png\" />"
      ],
      "metadata": {
        "id": "5Fm9imSA9S7S"
      }
    },
    {
      "cell_type": "markdown",
      "source": [
        "## Questions"
      ],
      "metadata": {
        "id": "ZiL9-vn-cfYF"
      }
    },
    {
      "cell_type": "markdown",
      "source": [
        "- does it make sense to always sort a list before searching?\n",
        "- Only if the cost of doing the sort is worth it - which would be when the sorted list gets searched multiple times..\n",
        "\n",
        "- The cost can then be thought to be slpit up or amortized because it is useful multiple times.\n",
        "\n",
        "- Lets say you buy a car for 3650! This is a lot, but if you use it every day for one year, then the cost is \\$10 per day\n",
        "- if you use the car for every day for 10 years, then the cost is \\$1 per day! (not including other car-related expenses)."
      ],
      "metadata": {
        "id": "dYPb575EcjYI"
      }
    }
  ]
}